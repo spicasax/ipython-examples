{
 "cells": [
  {
   "cell_type": "code",
   "execution_count": 3,
   "metadata": {
    "collapsed": true
   },
   "outputs": [],
   "source": [
    "import pandas as pd\n",
    "import gzip\n",
    "from __future__ import division"
   ]
  },
  {
   "cell_type": "code",
   "execution_count": 4,
   "metadata": {
    "collapsed": true
   },
   "outputs": [],
   "source": [
    "import matplotlib.pyplot as plt\n",
    "%matplotlib inline\n",
    "\n",
    "import seaborn as sns\n",
    "sns.set(color_codes=True)"
   ]
  },
  {
   "cell_type": "code",
   "execution_count": 5,
   "metadata": {
    "collapsed": true
   },
   "outputs": [],
   "source": [
    "from nltk.tokenize import word_tokenize\n",
    "from nltk.corpus import stopwords, PlaintextCorpusReader\n",
    "#from nltk import FreqDist, collocations, wordpunct_tokenize, Text, pos_tag\n",
    "import nltk\n",
    "from nltk.collocations import *\n",
    "from nltk.draw.dispersion import dispersion_plot"
   ]
  },
  {
   "cell_type": "code",
   "execution_count": 6,
   "metadata": {
    "collapsed": true
   },
   "outputs": [],
   "source": [
    "import os\n",
    "THIS_DIR = os.path.join(os.getenv(\"HOME\"), 'ipython-examples', 'reviews')"
   ]
  },
  {
   "cell_type": "markdown",
   "metadata": {},
   "source": [
    "# Load review data"
   ]
  },
  {
   "cell_type": "code",
   "execution_count": 7,
   "metadata": {
    "collapsed": true
   },
   "outputs": [],
   "source": [
    "def parse(path):\n",
    "  g = gzip.open(path, 'rb')\n",
    "  for l in g:\n",
    "    yield eval(l)\n",
    "\n",
    "def getDF(path):\n",
    "  i = 0\n",
    "  df = {}\n",
    "  for d in parse(path):\n",
    "    df[i] = d\n",
    "    i += 1\n",
    "  return pd.DataFrame.from_dict(df, orient='index')\n"
   ]
  },
  {
   "cell_type": "code",
   "execution_count": 8,
   "metadata": {
    "collapsed": true
   },
   "outputs": [],
   "source": [
    "# Download sample Amazon review data from: http://jmcauley.ucsd.edu/data/amazon/\n",
    "# I downloaded only one category of review data, selecting a smallish set\n",
    "df = getDF('/Users/cynthiasadler/Downloads/reviews_Musical_Instruments_5.json.gz')"
   ]
  },
  {
   "cell_type": "code",
   "execution_count": 9,
   "metadata": {},
   "outputs": [
    {
     "data": {
      "text/html": [
       "<div>\n",
       "<style>\n",
       "    .dataframe thead tr:only-child th {\n",
       "        text-align: right;\n",
       "    }\n",
       "\n",
       "    .dataframe thead th {\n",
       "        text-align: left;\n",
       "    }\n",
       "\n",
       "    .dataframe tbody tr th {\n",
       "        vertical-align: top;\n",
       "    }\n",
       "</style>\n",
       "<table border=\"1\" class=\"dataframe\">\n",
       "  <thead>\n",
       "    <tr style=\"text-align: right;\">\n",
       "      <th></th>\n",
       "      <th>reviewerID</th>\n",
       "      <th>asin</th>\n",
       "      <th>reviewerName</th>\n",
       "      <th>helpful</th>\n",
       "      <th>reviewText</th>\n",
       "      <th>overall</th>\n",
       "      <th>summary</th>\n",
       "      <th>unixReviewTime</th>\n",
       "      <th>reviewTime</th>\n",
       "    </tr>\n",
       "  </thead>\n",
       "  <tbody>\n",
       "    <tr>\n",
       "      <th>0</th>\n",
       "      <td>A2IBPI20UZIR0U</td>\n",
       "      <td>1384719342</td>\n",
       "      <td>cassandra tu \"Yeah, well, that's just like, u...</td>\n",
       "      <td>[0, 0]</td>\n",
       "      <td>Not much to write about here, but it does exac...</td>\n",
       "      <td>5.0</td>\n",
       "      <td>good</td>\n",
       "      <td>1393545600</td>\n",
       "      <td>02 28, 2014</td>\n",
       "    </tr>\n",
       "    <tr>\n",
       "      <th>1</th>\n",
       "      <td>A14VAT5EAX3D9S</td>\n",
       "      <td>1384719342</td>\n",
       "      <td>Jake</td>\n",
       "      <td>[13, 14]</td>\n",
       "      <td>The product does exactly as it should and is q...</td>\n",
       "      <td>5.0</td>\n",
       "      <td>Jake</td>\n",
       "      <td>1363392000</td>\n",
       "      <td>03 16, 2013</td>\n",
       "    </tr>\n",
       "    <tr>\n",
       "      <th>2</th>\n",
       "      <td>A195EZSQDW3E21</td>\n",
       "      <td>1384719342</td>\n",
       "      <td>Rick Bennette \"Rick Bennette\"</td>\n",
       "      <td>[1, 1]</td>\n",
       "      <td>The primary job of this device is to block the...</td>\n",
       "      <td>5.0</td>\n",
       "      <td>It Does The Job Well</td>\n",
       "      <td>1377648000</td>\n",
       "      <td>08 28, 2013</td>\n",
       "    </tr>\n",
       "    <tr>\n",
       "      <th>3</th>\n",
       "      <td>A2C00NNG1ZQQG2</td>\n",
       "      <td>1384719342</td>\n",
       "      <td>RustyBill \"Sunday Rocker\"</td>\n",
       "      <td>[0, 0]</td>\n",
       "      <td>Nice windscreen protects my MXL mic and preven...</td>\n",
       "      <td>5.0</td>\n",
       "      <td>GOOD WINDSCREEN FOR THE MONEY</td>\n",
       "      <td>1392336000</td>\n",
       "      <td>02 14, 2014</td>\n",
       "    </tr>\n",
       "    <tr>\n",
       "      <th>4</th>\n",
       "      <td>A94QU4C90B1AX</td>\n",
       "      <td>1384719342</td>\n",
       "      <td>SEAN MASLANKA</td>\n",
       "      <td>[0, 0]</td>\n",
       "      <td>This pop filter is great. It looks and perform...</td>\n",
       "      <td>5.0</td>\n",
       "      <td>No more pops when I record my vocals.</td>\n",
       "      <td>1392940800</td>\n",
       "      <td>02 21, 2014</td>\n",
       "    </tr>\n",
       "  </tbody>\n",
       "</table>\n",
       "</div>"
      ],
      "text/plain": [
       "       reviewerID        asin  \\\n",
       "0  A2IBPI20UZIR0U  1384719342   \n",
       "1  A14VAT5EAX3D9S  1384719342   \n",
       "2  A195EZSQDW3E21  1384719342   \n",
       "3  A2C00NNG1ZQQG2  1384719342   \n",
       "4   A94QU4C90B1AX  1384719342   \n",
       "\n",
       "                                       reviewerName   helpful  \\\n",
       "0  cassandra tu \"Yeah, well, that's just like, u...    [0, 0]   \n",
       "1                                              Jake  [13, 14]   \n",
       "2                     Rick Bennette \"Rick Bennette\"    [1, 1]   \n",
       "3                         RustyBill \"Sunday Rocker\"    [0, 0]   \n",
       "4                                     SEAN MASLANKA    [0, 0]   \n",
       "\n",
       "                                          reviewText  overall  \\\n",
       "0  Not much to write about here, but it does exac...      5.0   \n",
       "1  The product does exactly as it should and is q...      5.0   \n",
       "2  The primary job of this device is to block the...      5.0   \n",
       "3  Nice windscreen protects my MXL mic and preven...      5.0   \n",
       "4  This pop filter is great. It looks and perform...      5.0   \n",
       "\n",
       "                                 summary  unixReviewTime   reviewTime  \n",
       "0                                   good      1393545600  02 28, 2014  \n",
       "1                                   Jake      1363392000  03 16, 2013  \n",
       "2                   It Does The Job Well      1377648000  08 28, 2013  \n",
       "3          GOOD WINDSCREEN FOR THE MONEY      1392336000  02 14, 2014  \n",
       "4  No more pops when I record my vocals.      1392940800  02 21, 2014  "
      ]
     },
     "execution_count": 9,
     "metadata": {},
     "output_type": "execute_result"
    }
   ],
   "source": [
    "df.head()"
   ]
  },
  {
   "cell_type": "code",
   "execution_count": 10,
   "metadata": {
    "collapsed": true
   },
   "outputs": [],
   "source": [
    "df['fulltext'] = df.summary + ' ' + df.reviewText"
   ]
  },
  {
   "cell_type": "code",
   "execution_count": 11,
   "metadata": {},
   "outputs": [
    {
     "data": {
      "text/html": [
       "<div>\n",
       "<style>\n",
       "    .dataframe thead tr:only-child th {\n",
       "        text-align: right;\n",
       "    }\n",
       "\n",
       "    .dataframe thead th {\n",
       "        text-align: left;\n",
       "    }\n",
       "\n",
       "    .dataframe tbody tr th {\n",
       "        vertical-align: top;\n",
       "    }\n",
       "</style>\n",
       "<table border=\"1\" class=\"dataframe\">\n",
       "  <thead>\n",
       "    <tr style=\"text-align: right;\">\n",
       "      <th></th>\n",
       "      <th>reviewerID</th>\n",
       "      <th>asin</th>\n",
       "      <th>reviewerName</th>\n",
       "      <th>helpful</th>\n",
       "      <th>reviewText</th>\n",
       "      <th>overall</th>\n",
       "      <th>summary</th>\n",
       "      <th>unixReviewTime</th>\n",
       "      <th>reviewTime</th>\n",
       "      <th>fulltext</th>\n",
       "    </tr>\n",
       "  </thead>\n",
       "  <tbody>\n",
       "    <tr>\n",
       "      <th>0</th>\n",
       "      <td>A2IBPI20UZIR0U</td>\n",
       "      <td>1384719342</td>\n",
       "      <td>cassandra tu \"Yeah, well, that's just like, u...</td>\n",
       "      <td>[0, 0]</td>\n",
       "      <td>Not much to write about here, but it does exac...</td>\n",
       "      <td>5.0</td>\n",
       "      <td>good</td>\n",
       "      <td>1393545600</td>\n",
       "      <td>02 28, 2014</td>\n",
       "      <td>good Not much to write about here, but it does...</td>\n",
       "    </tr>\n",
       "    <tr>\n",
       "      <th>1</th>\n",
       "      <td>A14VAT5EAX3D9S</td>\n",
       "      <td>1384719342</td>\n",
       "      <td>Jake</td>\n",
       "      <td>[13, 14]</td>\n",
       "      <td>The product does exactly as it should and is q...</td>\n",
       "      <td>5.0</td>\n",
       "      <td>Jake</td>\n",
       "      <td>1363392000</td>\n",
       "      <td>03 16, 2013</td>\n",
       "      <td>Jake The product does exactly as it should and...</td>\n",
       "    </tr>\n",
       "    <tr>\n",
       "      <th>2</th>\n",
       "      <td>A195EZSQDW3E21</td>\n",
       "      <td>1384719342</td>\n",
       "      <td>Rick Bennette \"Rick Bennette\"</td>\n",
       "      <td>[1, 1]</td>\n",
       "      <td>The primary job of this device is to block the...</td>\n",
       "      <td>5.0</td>\n",
       "      <td>It Does The Job Well</td>\n",
       "      <td>1377648000</td>\n",
       "      <td>08 28, 2013</td>\n",
       "      <td>It Does The Job Well The primary job of this d...</td>\n",
       "    </tr>\n",
       "    <tr>\n",
       "      <th>3</th>\n",
       "      <td>A2C00NNG1ZQQG2</td>\n",
       "      <td>1384719342</td>\n",
       "      <td>RustyBill \"Sunday Rocker\"</td>\n",
       "      <td>[0, 0]</td>\n",
       "      <td>Nice windscreen protects my MXL mic and preven...</td>\n",
       "      <td>5.0</td>\n",
       "      <td>GOOD WINDSCREEN FOR THE MONEY</td>\n",
       "      <td>1392336000</td>\n",
       "      <td>02 14, 2014</td>\n",
       "      <td>GOOD WINDSCREEN FOR THE MONEY Nice windscreen ...</td>\n",
       "    </tr>\n",
       "    <tr>\n",
       "      <th>4</th>\n",
       "      <td>A94QU4C90B1AX</td>\n",
       "      <td>1384719342</td>\n",
       "      <td>SEAN MASLANKA</td>\n",
       "      <td>[0, 0]</td>\n",
       "      <td>This pop filter is great. It looks and perform...</td>\n",
       "      <td>5.0</td>\n",
       "      <td>No more pops when I record my vocals.</td>\n",
       "      <td>1392940800</td>\n",
       "      <td>02 21, 2014</td>\n",
       "      <td>No more pops when I record my vocals. This pop...</td>\n",
       "    </tr>\n",
       "  </tbody>\n",
       "</table>\n",
       "</div>"
      ],
      "text/plain": [
       "       reviewerID        asin  \\\n",
       "0  A2IBPI20UZIR0U  1384719342   \n",
       "1  A14VAT5EAX3D9S  1384719342   \n",
       "2  A195EZSQDW3E21  1384719342   \n",
       "3  A2C00NNG1ZQQG2  1384719342   \n",
       "4   A94QU4C90B1AX  1384719342   \n",
       "\n",
       "                                       reviewerName   helpful  \\\n",
       "0  cassandra tu \"Yeah, well, that's just like, u...    [0, 0]   \n",
       "1                                              Jake  [13, 14]   \n",
       "2                     Rick Bennette \"Rick Bennette\"    [1, 1]   \n",
       "3                         RustyBill \"Sunday Rocker\"    [0, 0]   \n",
       "4                                     SEAN MASLANKA    [0, 0]   \n",
       "\n",
       "                                          reviewText  overall  \\\n",
       "0  Not much to write about here, but it does exac...      5.0   \n",
       "1  The product does exactly as it should and is q...      5.0   \n",
       "2  The primary job of this device is to block the...      5.0   \n",
       "3  Nice windscreen protects my MXL mic and preven...      5.0   \n",
       "4  This pop filter is great. It looks and perform...      5.0   \n",
       "\n",
       "                                 summary  unixReviewTime   reviewTime  \\\n",
       "0                                   good      1393545600  02 28, 2014   \n",
       "1                                   Jake      1363392000  03 16, 2013   \n",
       "2                   It Does The Job Well      1377648000  08 28, 2013   \n",
       "3          GOOD WINDSCREEN FOR THE MONEY      1392336000  02 14, 2014   \n",
       "4  No more pops when I record my vocals.      1392940800  02 21, 2014   \n",
       "\n",
       "                                            fulltext  \n",
       "0  good Not much to write about here, but it does...  \n",
       "1  Jake The product does exactly as it should and...  \n",
       "2  It Does The Job Well The primary job of this d...  \n",
       "3  GOOD WINDSCREEN FOR THE MONEY Nice windscreen ...  \n",
       "4  No more pops when I record my vocals. This pop...  "
      ]
     },
     "execution_count": 11,
     "metadata": {},
     "output_type": "execute_result"
    }
   ],
   "source": [
    "df.head()"
   ]
  },
  {
   "cell_type": "markdown",
   "metadata": {},
   "source": [
    "# Basic exploration of review data"
   ]
  },
  {
   "cell_type": "code",
   "execution_count": 12,
   "metadata": {},
   "outputs": [
    {
     "data": {
      "text/plain": [
       "5.0    6938\n",
       "4.0    2084\n",
       "3.0     772\n",
       "2.0     250\n",
       "1.0     217\n",
       "Name: overall, dtype: int64"
      ]
     },
     "execution_count": 12,
     "metadata": {},
     "output_type": "execute_result"
    }
   ],
   "source": [
    "# overall sentiment distribution\n",
    "df.overall.value_counts()"
   ]
  },
  {
   "cell_type": "code",
   "execution_count": 13,
   "metadata": {},
   "outputs": [
    {
     "data": {
      "text/plain": [
       "<matplotlib.axes._subplots.AxesSubplot at 0x11a5ac240>"
      ]
     },
     "execution_count": 13,
     "metadata": {},
     "output_type": "execute_result"
    },
    {
     "data": {
      "image/png": "[encoded data removed]",
      "text/plain": [
       "<matplotlib.figure.Figure at 0x11a4829b0>"
      ]
     },
     "metadata": {},
     "output_type": "display_data"
    }
   ],
   "source": [
    "sns.distplot(df.overall, bins=5, kde=False)"
   ]
  },
  {
   "cell_type": "code",
   "execution_count": 14,
   "metadata": {},
   "outputs": [
    {
     "data": {
      "text/plain": [
       "10261"
      ]
     },
     "execution_count": 14,
     "metadata": {},
     "output_type": "execute_result"
    }
   ],
   "source": [
    "# number of reviews\n",
    "len(df)"
   ]
  },
  {
   "cell_type": "code",
   "execution_count": 15,
   "metadata": {},
   "outputs": [
    {
     "data": {
      "text/plain": [
       "900"
      ]
     },
     "execution_count": 15,
     "metadata": {},
     "output_type": "execute_result"
    }
   ],
   "source": [
    "# number of unique products\n",
    "len(df.asin.unique())"
   ]
  },
  {
   "cell_type": "code",
   "execution_count": 16,
   "metadata": {
    "collapsed": true
   },
   "outputs": [],
   "source": [
    "df['helpfulness_ratio'] = df.helpful.apply(lambda x: x[0] / x[1] if x[1] != 0 else 0)"
   ]
  },
  {
   "cell_type": "code",
   "execution_count": 17,
   "metadata": {},
   "outputs": [
    {
     "data": {
      "text/html": [
       "<div>\n",
       "<style>\n",
       "    .dataframe thead tr:only-child th {\n",
       "        text-align: right;\n",
       "    }\n",
       "\n",
       "    .dataframe thead th {\n",
       "        text-align: left;\n",
       "    }\n",
       "\n",
       "    .dataframe tbody tr th {\n",
       "        vertical-align: top;\n",
       "    }\n",
       "</style>\n",
       "<table border=\"1\" class=\"dataframe\">\n",
       "  <thead>\n",
       "    <tr style=\"text-align: right;\">\n",
       "      <th></th>\n",
       "      <th>reviewerID</th>\n",
       "      <th>asin</th>\n",
       "      <th>reviewerName</th>\n",
       "      <th>helpful</th>\n",
       "      <th>reviewText</th>\n",
       "      <th>overall</th>\n",
       "      <th>summary</th>\n",
       "      <th>unixReviewTime</th>\n",
       "      <th>reviewTime</th>\n",
       "      <th>fulltext</th>\n",
       "      <th>helpfulness_ratio</th>\n",
       "    </tr>\n",
       "  </thead>\n",
       "  <tbody>\n",
       "    <tr>\n",
       "      <th>0</th>\n",
       "      <td>A2IBPI20UZIR0U</td>\n",
       "      <td>1384719342</td>\n",
       "      <td>cassandra tu \"Yeah, well, that's just like, u...</td>\n",
       "      <td>[0, 0]</td>\n",
       "      <td>Not much to write about here, but it does exac...</td>\n",
       "      <td>5.0</td>\n",
       "      <td>good</td>\n",
       "      <td>1393545600</td>\n",
       "      <td>02 28, 2014</td>\n",
       "      <td>good Not much to write about here, but it does...</td>\n",
       "      <td>0.000000</td>\n",
       "    </tr>\n",
       "    <tr>\n",
       "      <th>1</th>\n",
       "      <td>A14VAT5EAX3D9S</td>\n",
       "      <td>1384719342</td>\n",
       "      <td>Jake</td>\n",
       "      <td>[13, 14]</td>\n",
       "      <td>The product does exactly as it should and is q...</td>\n",
       "      <td>5.0</td>\n",
       "      <td>Jake</td>\n",
       "      <td>1363392000</td>\n",
       "      <td>03 16, 2013</td>\n",
       "      <td>Jake The product does exactly as it should and...</td>\n",
       "      <td>0.928571</td>\n",
       "    </tr>\n",
       "    <tr>\n",
       "      <th>2</th>\n",
       "      <td>A195EZSQDW3E21</td>\n",
       "      <td>1384719342</td>\n",
       "      <td>Rick Bennette \"Rick Bennette\"</td>\n",
       "      <td>[1, 1]</td>\n",
       "      <td>The primary job of this device is to block the...</td>\n",
       "      <td>5.0</td>\n",
       "      <td>It Does The Job Well</td>\n",
       "      <td>1377648000</td>\n",
       "      <td>08 28, 2013</td>\n",
       "      <td>It Does The Job Well The primary job of this d...</td>\n",
       "      <td>1.000000</td>\n",
       "    </tr>\n",
       "    <tr>\n",
       "      <th>3</th>\n",
       "      <td>A2C00NNG1ZQQG2</td>\n",
       "      <td>1384719342</td>\n",
       "      <td>RustyBill \"Sunday Rocker\"</td>\n",
       "      <td>[0, 0]</td>\n",
       "      <td>Nice windscreen protects my MXL mic and preven...</td>\n",
       "      <td>5.0</td>\n",
       "      <td>GOOD WINDSCREEN FOR THE MONEY</td>\n",
       "      <td>1392336000</td>\n",
       "      <td>02 14, 2014</td>\n",
       "      <td>GOOD WINDSCREEN FOR THE MONEY Nice windscreen ...</td>\n",
       "      <td>0.000000</td>\n",
       "    </tr>\n",
       "    <tr>\n",
       "      <th>4</th>\n",
       "      <td>A94QU4C90B1AX</td>\n",
       "      <td>1384719342</td>\n",
       "      <td>SEAN MASLANKA</td>\n",
       "      <td>[0, 0]</td>\n",
       "      <td>This pop filter is great. It looks and perform...</td>\n",
       "      <td>5.0</td>\n",
       "      <td>No more pops when I record my vocals.</td>\n",
       "      <td>1392940800</td>\n",
       "      <td>02 21, 2014</td>\n",
       "      <td>No more pops when I record my vocals. This pop...</td>\n",
       "      <td>0.000000</td>\n",
       "    </tr>\n",
       "  </tbody>\n",
       "</table>\n",
       "</div>"
      ],
      "text/plain": [
       "       reviewerID        asin  \\\n",
       "0  A2IBPI20UZIR0U  1384719342   \n",
       "1  A14VAT5EAX3D9S  1384719342   \n",
       "2  A195EZSQDW3E21  1384719342   \n",
       "3  A2C00NNG1ZQQG2  1384719342   \n",
       "4   A94QU4C90B1AX  1384719342   \n",
       "\n",
       "                                       reviewerName   helpful  \\\n",
       "0  cassandra tu \"Yeah, well, that's just like, u...    [0, 0]   \n",
       "1                                              Jake  [13, 14]   \n",
       "2                     Rick Bennette \"Rick Bennette\"    [1, 1]   \n",
       "3                         RustyBill \"Sunday Rocker\"    [0, 0]   \n",
       "4                                     SEAN MASLANKA    [0, 0]   \n",
       "\n",
       "                                          reviewText  overall  \\\n",
       "0  Not much to write about here, but it does exac...      5.0   \n",
       "1  The product does exactly as it should and is q...      5.0   \n",
       "2  The primary job of this device is to block the...      5.0   \n",
       "3  Nice windscreen protects my MXL mic and preven...      5.0   \n",
       "4  This pop filter is great. It looks and perform...      5.0   \n",
       "\n",
       "                                 summary  unixReviewTime   reviewTime  \\\n",
       "0                                   good      1393545600  02 28, 2014   \n",
       "1                                   Jake      1363392000  03 16, 2013   \n",
       "2                   It Does The Job Well      1377648000  08 28, 2013   \n",
       "3          GOOD WINDSCREEN FOR THE MONEY      1392336000  02 14, 2014   \n",
       "4  No more pops when I record my vocals.      1392940800  02 21, 2014   \n",
       "\n",
       "                                            fulltext  helpfulness_ratio  \n",
       "0  good Not much to write about here, but it does...           0.000000  \n",
       "1  Jake The product does exactly as it should and...           0.928571  \n",
       "2  It Does The Job Well The primary job of this d...           1.000000  \n",
       "3  GOOD WINDSCREEN FOR THE MONEY Nice windscreen ...           0.000000  \n",
       "4  No more pops when I record my vocals. This pop...           0.000000  "
      ]
     },
     "execution_count": 17,
     "metadata": {},
     "output_type": "execute_result"
    }
   ],
   "source": [
    "df.head()\n"
   ]
  },
  {
   "cell_type": "code",
   "execution_count": 18,
   "metadata": {},
   "outputs": [
    {
     "data": {
      "text/plain": [
       "<matplotlib.axes._subplots.AxesSubplot at 0x11a9668d0>"
      ]
     },
     "execution_count": 18,
     "metadata": {},
     "output_type": "execute_result"
    },
    {
     "data": {
      "image/png": "[encoded data removed]",
      "text/plain": [
       "<matplotlib.figure.Figure at 0x11a482b00>"
      ]
     },
     "metadata": {},
     "output_type": "display_data"
    }
   ],
   "source": [
    "sns.distplot(df.helpfulness_ratio, bins=55, kde=False)"
   ]
  },
  {
   "cell_type": "markdown",
   "metadata": {},
   "source": [
    "# NLTK - let's detour for some basics\n"
   ]
  },
  {
   "cell_type": "markdown",
   "metadata": {},
   "source": [
    "## load data"
   ]
  },
  {
   "cell_type": "code",
   "execution_count": 19,
   "metadata": {},
   "outputs": [
    {
     "data": {
      "text/plain": [
       "<PlaintextCorpusReader in '/Users/cynthiasadler/ipython-examples/reviews'>"
      ]
     },
     "execution_count": 19,
     "metadata": {},
     "output_type": "execute_result"
    }
   ],
   "source": [
    "# you can load a list of files.... we only happen to have one file,\n",
    "# which I retrieved from https://www.cs.cmu.edu/~spok/grimmtmp/001.txt\n",
    "grimm_reader = PlaintextCorpusReader(THIS_DIR, '.*\\.txt')\n",
    "grimm_reader"
   ]
  },
  {
   "cell_type": "code",
   "execution_count": 20,
   "metadata": {},
   "outputs": [
    {
     "data": {
      "text/plain": [
       "['grimm01.txt']"
      ]
     },
     "execution_count": 20,
     "metadata": {},
     "output_type": "execute_result"
    }
   ],
   "source": [
    "grimm_reader.fileids()"
   ]
  },
  {
   "cell_type": "code",
   "execution_count": 21,
   "metadata": {},
   "outputs": [
    {
     "data": {
      "text/plain": [
       "['In', 'olden', 'times', 'when', 'wishing', 'still', ...]"
      ]
     },
     "execution_count": 21,
     "metadata": {},
     "output_type": "execute_result"
    }
   ],
   "source": [
    "# tokenize one corpus to list of words\n",
    "grimm_tokens = grimm_reader.words('grimm01.txt')\n",
    "grimm_tokens"
   ]
  },
  {
   "cell_type": "code",
   "execution_count": 22,
   "metadata": {},
   "outputs": [
    {
     "data": {
      "text/plain": [
       "<Text: in olden times when wishing still helped one...>"
      ]
     },
     "execution_count": 22,
     "metadata": {},
     "output_type": "execute_result"
    }
   ],
   "source": [
    "# instantiate Text so we can use nltk power\n",
    "grimm_text = nltk.Text(word.lower() for word in grimm_tokens)\n",
    "grimm_text"
   ]
  },
  {
   "cell_type": "markdown",
   "metadata": {},
   "source": [
    "## nltk library goodies"
   ]
  },
  {
   "cell_type": "code",
   "execution_count": 23,
   "metadata": {},
   "outputs": [
    {
     "data": {
      "image/png": "[encoded data removed]",
      "text/plain": [
       "<matplotlib.figure.Figure at 0x11b10e438>"
      ]
     },
     "metadata": {},
     "output_type": "display_data"
    }
   ],
   "source": [
    "# this is blank plot for some reason... bummer.\n",
    "grimm_text.dispersion_plot(['king'])"
   ]
  },
  {
   "cell_type": "code",
   "execution_count": 24,
   "metadata": {},
   "outputs": [
    {
     "name": "stdout",
     "output_type": "stream",
     "text": [
      "Displaying 17 of 17 matches:\n",
      "                                     king whose daughters were all beautiful ,\n",
      " it shone in her face . close by the king ' s castle lay a great dark forest ,\n",
      "and when the day was very warm , the king ' s child went out into the forest a\n",
      "rolled straight into the water . the king ' s daughter followed it with her ey\n",
      "eone said to her , \" what ails you , king ' s daughter ? you weep so that even\n",
      "th , and threw it on the grass . the king ' s daughter was delighted to see he\n",
      "had seated herself at table with the king and all the courtiers , and was eati\n",
      "ain , and was quite frightened . the king saw plainly that her heart was beati\n",
      "pen the door for me .\" then said the king , \" that which you have promised mus\n",
      "u .\" she delayed , until at last the king commanded her to do it . once the fr\n",
      "both lie down and go to sleep .\" the king ' s daughter began to cry , for she \n",
      " pretty , clean little bed . but the king grew angry and said , \" he who helpe\n",
      "en he fell down he was no frog but a king ' s son with kind and beautiful eyes\n",
      " chains , and behind stood the young king ' s servant faithful henry . faithfu\n",
      "he carriage was to conduct the young king into his kingdom . faithful henry he\n",
      "hey had driven a part of the way the king ' s son heard a cracking behind him \n",
      "omething cracked , and each time the king ' s son thought the carriage was bre\n"
     ]
    }
   ],
   "source": [
    "# get the contexts of a given word\n",
    "grimm_text.concordance('king')"
   ]
  },
  {
   "cell_type": "code",
   "execution_count": 25,
   "metadata": {},
   "outputs": [
    {
     "name": "stdout",
     "output_type": "stream",
     "text": [
      "Displaying 7 of 7 matches:\n",
      " happened that on one occasion the princess ' s golden ball did not fall into \n",
      " knocked at the door and cried , \" princess , youngest princess , open the doo\n",
      " and cried , \" princess , youngest princess , open the door for me .\" she ran \n",
      "cked a second time , and cried , \" princess , youngest princess , open the doo\n",
      " and cried , \" princess , youngest princess , open the door for me , do you no\n",
      "y by the cool waters of the well . princess , youngest princess , open the doo\n",
      " of the well . princess , youngest princess , open the door for me .\" then sai\n"
     ]
    }
   ],
   "source": [
    "grimm_text.concordance('princess')"
   ]
  },
  {
   "cell_type": "code",
   "execution_count": 26,
   "metadata": {},
   "outputs": [
    {
     "name": "stdout",
     "output_type": "stream",
     "text": [
      "the_'\n"
     ]
    }
   ],
   "source": [
    "# find common contexts of two words\n",
    "# these both have contexts of \"the <word>'s\"\n",
    "# e.g., \"the king's\" and \"the princess's\"\n",
    "grimm_text.common_contexts(['king', 'princess'])"
   ]
  },
  {
   "cell_type": "code",
   "execution_count": 27,
   "metadata": {},
   "outputs": [
    {
     "name": "stdout",
     "output_type": "stream",
     "text": [
      "No common contexts were found\n"
     ]
    }
   ],
   "source": [
    "# you might not find any common contexts, though\n",
    "grimm_text.common_contexts(['king', 'waters'])"
   ]
  },
  {
   "cell_type": "code",
   "execution_count": 28,
   "metadata": {},
   "outputs": [
    {
     "name": "stdout",
     "output_type": "stream",
     "text": [
      "door forest well princess water frog table courtiers top\n"
     ]
    }
   ],
   "source": [
    "# find words with similar contexts\n",
    "# in other words, for a given a word w, finds all contexts w1 w w2, \n",
    "# then finds all words w' that appear in the same context, i.e. w1 w' w2.\n",
    "grimm_text.similar('king')"
   ]
  },
  {
   "cell_type": "code",
   "execution_count": 29,
   "metadata": {},
   "outputs": [
    {
     "name": "stdout",
     "output_type": "stream",
     "text": [
      "the_and\n"
     ]
    }
   ],
   "source": [
    "grimm_text.common_contexts(['forest', 'king'])"
   ]
  },
  {
   "cell_type": "code",
   "execution_count": 30,
   "metadata": {},
   "outputs": [
    {
     "name": "stdout",
     "output_type": "stream",
     "text": [
      "the_and\n"
     ]
    }
   ],
   "source": [
    "grimm_text.common_contexts(['water', 'king'])"
   ]
  },
  {
   "cell_type": "code",
   "execution_count": 31,
   "metadata": {},
   "outputs": [
    {
     "name": "stdout",
     "output_type": "stream",
     "text": [
      "the_,\n"
     ]
    }
   ],
   "source": [
    "grimm_text.common_contexts(['courtiers', 'king'])"
   ]
  },
  {
   "cell_type": "code",
   "execution_count": 32,
   "metadata": {},
   "outputs": [
    {
     "name": "stdout",
     "output_type": "stream",
     "text": [
      "faithful henry; golden ball; golden plate; splish splash; youngest\n",
      "princess; golden crown; little golden; young king; little bed\n"
     ]
    }
   ],
   "source": [
    "# find collocations of two words\n",
    "grimm_text.collocations()"
   ]
  },
  {
   "cell_type": "code",
   "execution_count": 33,
   "metadata": {},
   "outputs": [
    {
     "name": "stdout",
     "output_type": "stream",
     "text": [
      "Displaying 4 of 4 matches:\n",
      "d stood the young king ' s servant faithful henry . faithful henry had been so\n",
      " king ' s servant faithful henry . faithful henry had been so unhappy when his\n",
      " the young king into his kingdom . faithful henry helped them both in , and pl\n",
      "h were springing from the heart of faithful henry because his master was set f\n"
     ]
    }
   ],
   "source": [
    "grimm_text.concordance('faithful')"
   ]
  },
  {
   "cell_type": "code",
   "execution_count": 34,
   "metadata": {},
   "outputs": [
    {
     "data": {
      "text/plain": [
       "nltk.probability.FreqDist"
      ]
     },
     "execution_count": 34,
     "metadata": {},
     "output_type": "execute_result"
    }
   ],
   "source": [
    "# create a Frequency Distribution, FreqDist, which is like Python Counter\n",
    "fd = nltk.FreqDist(grimm_text)\n",
    "type(fd)"
   ]
  },
  {
   "cell_type": "code",
   "execution_count": 35,
   "metadata": {},
   "outputs": [
    {
     "data": {
      "text/plain": [
       "FreqDist({'\"': 29,\n",
       "          \"'\": 13,\n",
       "          ',': 135,\n",
       "          ',\"': 7,\n",
       "          '-': 5,\n",
       "          '.': 38,\n",
       "          '.\"': 19,\n",
       "          ';': 1,\n",
       "          '?': 2,\n",
       "          '?\"': 3,\n",
       "          'a': 20,\n",
       "          'able': 1,\n",
       "          'afraid': 2,\n",
       "          'after': 1,\n",
       "          'afterwards': 1,\n",
       "          'again': 10,\n",
       "          'against': 1,\n",
       "          'ah': 3,\n",
       "          'ails': 1,\n",
       "          'all': 5,\n",
       "          'almost': 1,\n",
       "          'am': 5,\n",
       "          'an': 1,\n",
       "          'and': 75,\n",
       "          'angry': 2,\n",
       "          'answered': 2,\n",
       "          'any': 1,\n",
       "          'are': 1,\n",
       "          'as': 8,\n",
       "          'astonished': 1,\n",
       "          'at': 7,\n",
       "          'ate': 1,\n",
       "          'avail': 1,\n",
       "          'away': 2,\n",
       "          'awoke': 1,\n",
       "          'back': 2,\n",
       "          'ball': 8,\n",
       "          'band': 1,\n",
       "          'bands': 2,\n",
       "          'be': 11,\n",
       "          'beating': 1,\n",
       "          'beautiful': 3,\n",
       "          'because': 4,\n",
       "          'bed': 4,\n",
       "          'been': 2,\n",
       "          'began': 2,\n",
       "          'behind': 3,\n",
       "          'being': 1,\n",
       "          'below': 1,\n",
       "          'beside': 1,\n",
       "          'bewitched': 1,\n",
       "          'beyond': 1,\n",
       "          'big': 1,\n",
       "          'bored': 1,\n",
       "          'both': 2,\n",
       "          'bottom': 1,\n",
       "          'breaking': 2,\n",
       "          'bring': 3,\n",
       "          'broken': 1,\n",
       "          'brought': 1,\n",
       "          'burst': 1,\n",
       "          'but': 21,\n",
       "          'by': 9,\n",
       "          'came': 4,\n",
       "          'can': 4,\n",
       "          'care': 1,\n",
       "          'carriage': 5,\n",
       "          'carried': 1,\n",
       "          'carry': 2,\n",
       "          'castle': 1,\n",
       "          'caught': 1,\n",
       "          'caused': 1,\n",
       "          'chains': 1,\n",
       "          'chair': 2,\n",
       "          'changed': 1,\n",
       "          'child': 2,\n",
       "          'choked': 1,\n",
       "          'clean': 1,\n",
       "          'close': 1,\n",
       "          'clothes': 2,\n",
       "          'cold': 1,\n",
       "          'come': 2,\n",
       "          'comforted': 1,\n",
       "          'commanded': 1,\n",
       "          'companion': 4,\n",
       "          'conduct': 1,\n",
       "          'cool': 2,\n",
       "          'corner': 1,\n",
       "          'could': 4,\n",
       "          'courtiers': 1,\n",
       "          'cracked': 1,\n",
       "          'cracking': 1,\n",
       "          'creeping': 1,\n",
       "          'crept': 1,\n",
       "          'cried': 6,\n",
       "          'croak': 3,\n",
       "          'crown': 2,\n",
       "          'cry': 2,\n",
       "          'cup': 1,\n",
       "          'dark': 1,\n",
       "          'daughter': 4,\n",
       "          'daughters': 1,\n",
       "          'day': 2,\n",
       "          'dear': 3,\n",
       "          'deep': 2,\n",
       "          'delayed': 1,\n",
       "          'delighted': 1,\n",
       "          'deliverance': 1,\n",
       "          'delivered': 1,\n",
       "          'despised': 1,\n",
       "          'did': 6,\n",
       "          'dinner': 1,\n",
       "          'disgusting': 1,\n",
       "          'do': 5,\n",
       "          'does': 3,\n",
       "          'door': 7,\n",
       "          'down': 6,\n",
       "          'drink': 1,\n",
       "          'driven': 1,\n",
       "          'driving': 1,\n",
       "          'each': 1,\n",
       "          'easy': 1,\n",
       "          'eat': 2,\n",
       "          'eaten': 1,\n",
       "          'eating': 1,\n",
       "          'eight': 1,\n",
       "          'enjoyed': 1,\n",
       "          'even': 2,\n",
       "          'every': 1,\n",
       "          'eyes': 2,\n",
       "          'face': 1,\n",
       "          'faithful': 4,\n",
       "          'fall': 1,\n",
       "          'fallen': 1,\n",
       "          'father': 3,\n",
       "          'favorite': 1,\n",
       "          'feathers': 1,\n",
       "          'fell': 2,\n",
       "          'fellow': 1,\n",
       "          'fingers': 1,\n",
       "          'followed': 2,\n",
       "          'for': 9,\n",
       "          'forced': 1,\n",
       "          'forest': 4,\n",
       "          'forgot': 1,\n",
       "          'forth': 1,\n",
       "          'fountain': 1,\n",
       "          'free': 1,\n",
       "          'frightened': 1,\n",
       "          'frog': 21,\n",
       "          'frogs': 1,\n",
       "          'from': 6,\n",
       "          'front': 1,\n",
       "          'full': 1,\n",
       "          'giant': 2,\n",
       "          'give': 1,\n",
       "          'go': 5,\n",
       "          'golden': 11,\n",
       "          'got': 1,\n",
       "          'grass': 1,\n",
       "          'great': 3,\n",
       "          'grew': 1,\n",
       "          'grief': 1,\n",
       "          'ground': 1,\n",
       "          'had': 9,\n",
       "          'hand': 1,\n",
       "          'happened': 1,\n",
       "          'happy': 1,\n",
       "          'harnessed': 1,\n",
       "          'has': 2,\n",
       "          'haste': 1,\n",
       "          'have': 4,\n",
       "          'he': 23,\n",
       "          'head': 2,\n",
       "          'heads': 1,\n",
       "          'heard': 1,\n",
       "          'heart': 4,\n",
       "          'help': 1,\n",
       "          'helped': 3,\n",
       "          'henry': 5,\n",
       "          'her': 18,\n",
       "          'herself': 2,\n",
       "          'high': 1,\n",
       "          'him': 9,\n",
       "          'himself': 1,\n",
       "          'his': 10,\n",
       "          'hold': 1,\n",
       "          'holding': 1,\n",
       "          'home': 1,\n",
       "          'hopped': 1,\n",
       "          'horses': 1,\n",
       "          'how': 3,\n",
       "          'human': 1,\n",
       "          'husband': 1,\n",
       "          'i': 17,\n",
       "          'if': 5,\n",
       "          'imprisoned': 1,\n",
       "          'in': 21,\n",
       "          'insisted': 1,\n",
       "          'into': 11,\n",
       "          'iron': 1,\n",
       "          'is': 8,\n",
       "          'it': 26,\n",
       "          'its': 1,\n",
       "          'itself': 1,\n",
       "          'jewels': 2,\n",
       "          'joy': 1,\n",
       "          'kind': 1,\n",
       "          'king': 17,\n",
       "          'kingdom': 2,\n",
       "          'knocked': 2,\n",
       "          'know': 1,\n",
       "          'laid': 1,\n",
       "          'lamented': 1,\n",
       "          'last': 1,\n",
       "          'lay': 1,\n",
       "          'length': 1,\n",
       "          'lest': 1,\n",
       "          'let': 2,\n",
       "          'lie': 1,\n",
       "          'lift': 2,\n",
       "          'like': 1,\n",
       "          'lime': 1,\n",
       "          'listen': 1,\n",
       "          'little': 10,\n",
       "          'lived': 1,\n",
       "          'looked': 1,\n",
       "          'louder': 2,\n",
       "          'loudly': 1,\n",
       "          'love': 1,\n",
       "          'make': 1,\n",
       "          'marble': 1,\n",
       "          'master': 3,\n",
       "          'may': 1,\n",
       "          'me': 16,\n",
       "          'meantime': 1,\n",
       "          'might': 1,\n",
       "          'more': 1,\n",
       "          'morning': 1,\n",
       "          'morrow': 1,\n",
       "          'mouth': 1,\n",
       "          'mouthful': 1,\n",
       "          'much': 1,\n",
       "          'must': 1,\n",
       "          'my': 9,\n",
       "          'nearer': 1,\n",
       "          'never': 1,\n",
       "          'next': 2,\n",
       "          'no': 6,\n",
       "          'nor': 1,\n",
       "          'not': 11,\n",
       "          'now': 7,\n",
       "          'occasion': 1,\n",
       "          'odious': 1,\n",
       "          'of': 12,\n",
       "          'off': 1,\n",
       "          'oh': 1,\n",
       "          'old': 2,\n",
       "          'olden': 1,\n",
       "          'on': 9,\n",
       "          'once': 3,\n",
       "          'one': 3,\n",
       "          'only': 1,\n",
       "          'open': 3,\n",
       "          'opened': 2,\n",
       "          'or': 1,\n",
       "          'ostrich': 1,\n",
       "          'other': 1,\n",
       "          'ought': 1,\n",
       "          'out': 4,\n",
       "          'outside': 3,\n",
       "          'pain': 1,\n",
       "          'part': 1,\n",
       "          'pearls': 2,\n",
       "          'perchance': 1,\n",
       "          'perform': 1,\n",
       "          'picked': 1,\n",
       "          'pity': 1,\n",
       "          'placed': 1,\n",
       "          'plainly': 1,\n",
       "          'plate': 3,\n",
       "          'play': 1,\n",
       "          'playing': 1,\n",
       "          'plaything': 3,\n",
       "          'poor': 1,\n",
       "          'pretty': 2,\n",
       "          'princess': 7,\n",
       "          'promise': 3,\n",
       "          'promised': 2,\n",
       "          'push': 1,\n",
       "          'put': 3,\n",
       "          'quiet': 2,\n",
       "          'quite': 1,\n",
       "          'ran': 3,\n",
       "          'ready': 1,\n",
       "          'received': 1,\n",
       "          'replied': 1,\n",
       "          'rolled': 1,\n",
       "          'room': 1,\n",
       "          'round': 3,\n",
       "          'run': 1,\n",
       "          's': 12,\n",
       "          'sadness': 1,\n",
       "          'said': 13,\n",
       "          'sank': 1,\n",
       "          'sat': 4,\n",
       "          'satisfied': 1,\n",
       "          'saw': 2,\n",
       "          'scream': 1,\n",
       "          'seated': 1,\n",
       "          'second': 1,\n",
       "          'see': 3,\n",
       "          'seen': 2,\n",
       "          'servant': 1,\n",
       "          'set': 1,\n",
       "          'she': 27,\n",
       "          'shone': 1,\n",
       "          'short': 1,\n",
       "          'should': 2,\n",
       "          'show': 1,\n",
       "          'side': 2,\n",
       "          'silken': 1,\n",
       "          'silly': 1,\n",
       "          'sit': 2,\n",
       "          'sitting': 1,\n",
       "          'slammed': 1,\n",
       "          'sleep': 5,\n",
       "          'so': 11,\n",
       "          'someone': 1,\n",
       "          'something': 3,\n",
       "          'son': 3,\n",
       "          'soon': 1,\n",
       "          'splash': 2,\n",
       "          'splasher': 1,\n",
       "          'splish': 2,\n",
       "          'springing': 1,\n",
       "          'staircase': 1,\n",
       "          'step': 2,\n",
       "          'still': 1,\n",
       "          'stone': 1,\n",
       "          'stood': 1,\n",
       "          'straight': 1,\n",
       "          'stretching': 1,\n",
       "          'sun': 2,\n",
       "          'swimmming': 1,\n",
       "          't': 1,\n",
       "          'table': 4,\n",
       "          'take': 1,\n",
       "          'talk': 1,\n",
       "          'tell': 1,\n",
       "          'terribly': 1,\n",
       "          'that': 10,\n",
       "          'the': 81,\n",
       "          'their': 2,\n",
       "          'them': 2,\n",
       "          'then': 4,\n",
       "          'there': 6,\n",
       "          'they': 4,\n",
       "          'this': 7,\n",
       "          'thought': 3,\n",
       "          'three': 1,\n",
       "          'threw': 3,\n",
       "          'thus': 1,\n",
       "          'time': 2,\n",
       "          'times': 1,\n",
       "          'tired': 2,\n",
       "          'to': 35,\n",
       "          'together': 2,\n",
       "          'told': 1,\n",
       "          'took': 4,\n",
       "          'top': 1,\n",
       "          'touch': 1,\n",
       "          'tree': 1,\n",
       "          'trouble': 1,\n",
       "          'turned': 1,\n",
       "          'two': 1,\n",
       "          'ugly': 1,\n",
       "          'under': 1,\n",
       "          'unhappy': 1,\n",
       "          'until': 1,\n",
       "          'up': 11,\n",
       "          'upstairs': 1,\n",
       "          'vanished': 1,\n",
       "          'very': 1,\n",
       "          'violently': 1,\n",
       "          'voice': 1,\n",
       "          'wait': 2,\n",
       "          'wall': 1,\n",
       "          'want': 2,\n",
       "          'wanted': 1,\n",
       "          'wants': 2,\n",
       "          'warm': 1,\n",
       "          'was': 32,\n",
       "          'water': 7,\n",
       "          'waters': 1,\n",
       "          'way': 2,\n",
       "          'we': 2,\n",
       "          'wearing': 1,\n",
       "          'weep': 2,\n",
       "          'weeping': 1,\n",
       "          'well': 9,\n",
       "          'went': 3,\n",
       "          'were': 6,\n",
       "          'what': 7,\n",
       "          'whatever': 1,\n",
       "          'when': 15,\n",
       "          'whence': 1,\n",
       "          'whenever': 1,\n",
       "          'which': 10,\n",
       "          'while': 2,\n",
       "          'white': 2,\n",
       "          'who': 4,\n",
       "          'whose': 1,\n",
       "          'wicked': 1,\n",
       "          'will': 10,\n",
       "          'willingly': 1,\n",
       "          'wish': 1,\n",
       "          'wishing': 1,\n",
       "          'witch': 1,\n",
       "          'with': 13,\n",
       "          'would': 3,\n",
       "          'yes': 1,\n",
       "          'yesterday': 2,\n",
       "          'you': 29,\n",
       "          'young': 2,\n",
       "          'youngest': 4,\n",
       "          'your': 14})"
      ]
     },
     "execution_count": 35,
     "metadata": {},
     "output_type": "execute_result"
    }
   ],
   "source": [
    "fd"
   ]
  },
  {
   "cell_type": "code",
   "execution_count": 36,
   "metadata": {},
   "outputs": [
    {
     "data": {
      "text/plain": [
       "','"
      ]
     },
     "execution_count": 36,
     "metadata": {},
     "output_type": "execute_result"
    }
   ],
   "source": [
    "# most frequent word\n",
    "fd.max()"
   ]
  },
  {
   "cell_type": "code",
   "execution_count": 37,
   "metadata": {},
   "outputs": [
    {
     "data": {
      "text/plain": [
       "2"
      ]
     },
     "execution_count": 37,
     "metadata": {},
     "output_type": "execute_result"
    }
   ],
   "source": [
    "# number of samples (or keys) with a given outcome or occurence\n",
    "fd.Nr(29)"
   ]
  },
  {
   "cell_type": "code",
   "execution_count": 38,
   "metadata": {},
   "outputs": [
    {
     "data": {
      "text/plain": [
       "29"
      ]
     },
     "execution_count": 38,
     "metadata": {},
     "output_type": "execute_result"
    }
   ],
   "source": [
    "fd['\"']"
   ]
  },
  {
   "cell_type": "code",
   "execution_count": 39,
   "metadata": {},
   "outputs": [
    {
     "data": {
      "text/plain": [
       "0.010083036773428233"
      ]
     },
     "execution_count": 39,
     "metadata": {},
     "output_type": "execute_result"
    }
   ],
   "source": [
    "# find frequency of 'king'\n",
    "fd.freq('king')"
   ]
  },
  {
   "cell_type": "code",
   "execution_count": 40,
   "metadata": {},
   "outputs": [
    {
     "data": {
      "text/plain": [
       "0.010083036773428233"
      ]
     },
     "execution_count": 40,
     "metadata": {},
     "output_type": "execute_result"
    }
   ],
   "source": [
    "# which is same as (number of occurences) / (number of words)\n",
    "fd['king'] / len(grimm_text)"
   ]
  },
  {
   "cell_type": "code",
   "execution_count": 41,
   "metadata": {},
   "outputs": [
    {
     "data": {
      "text/plain": [
       "['olden',\n",
       " 'times',\n",
       " 'wishing',\n",
       " 'still',\n",
       " 'lived',\n",
       " 'whose',\n",
       " 'daughters',\n",
       " 'itself',\n",
       " 'much',\n",
       " 'astonished']"
      ]
     },
     "execution_count": 41,
     "metadata": {},
     "output_type": "execute_result"
    }
   ],
   "source": [
    "# hapaxes are words that only occur once\n",
    "fd.hapaxes()[:10]"
   ]
  },
  {
   "cell_type": "code",
   "execution_count": 42,
   "metadata": {},
   "outputs": [
    {
     "data": {
      "image/png": "[encoded data removed]",
      "text/plain": [
       "<matplotlib.figure.Figure at 0x11aceea58>"
      ]
     },
     "metadata": {},
     "output_type": "display_data"
    }
   ],
   "source": [
    "# a plot that actually works\n",
    "fd.plot(20)"
   ]
  },
  {
   "cell_type": "code",
   "execution_count": 43,
   "metadata": {},
   "outputs": [
    {
     "data": {
      "text/plain": [
       "17"
      ]
     },
     "execution_count": 43,
     "metadata": {},
     "output_type": "execute_result"
    }
   ],
   "source": [
    "# check if 'king' looks about right in the plot\n",
    "grimm_text.count('king')"
   ]
  },
  {
   "cell_type": "code",
   "execution_count": 44,
   "metadata": {
    "collapsed": true
   },
   "outputs": [],
   "source": [
    "# find words that commonly co-occur\n",
    "bigram_measures = nltk.collocations.BigramAssocMeasures()\n",
    "finder = BigramCollocationFinder.from_words(grimm_tokens)"
   ]
  },
  {
   "cell_type": "code",
   "execution_count": 45,
   "metadata": {},
   "outputs": [
    {
     "data": {
      "text/plain": [
       "[('Oh', 'yes'),\n",
       " ('almost', 'every'),\n",
       " ('any', 'human'),\n",
       " ('astonished', 'whenever'),\n",
       " ('beating', 'violently'),\n",
       " ('castle', 'lay'),\n",
       " ('caused', 'three'),\n",
       " ('every', 'mouthful'),\n",
       " ('forth', 'its'),\n",
       " ('ground', 'beyond')]"
      ]
     },
     "execution_count": 45,
     "metadata": {},
     "output_type": "execute_result"
    }
   ],
   "source": [
    "# bigram collocations measured with Pointwise Mutual Information\n",
    "# see: https://en.wikipedia.org/wiki/Pointwise_mutual_information\n",
    "finder.nbest(bigram_measures.pmi, 10)"
   ]
  },
  {
   "cell_type": "markdown",
   "metadata": {},
   "source": [
    "# Apply these ideas to our review data"
   ]
  },
  {
   "cell_type": "code",
   "execution_count": 46,
   "metadata": {
    "collapsed": true
   },
   "outputs": [],
   "source": [
    "# split reviews into two sets, positive (4 and 5 stars) and negative (1 and 2 stars)\n",
    "positive_reviews = df[df.overall>3]\n",
    "negative_reviews = df[df.overall<3]"
   ]
  },
  {
   "cell_type": "code",
   "execution_count": 47,
   "metadata": {},
   "outputs": [
    {
     "data": {
      "text/plain": [
       "['i', 'me', 'my', 'myself', 'we', 'our', 'ours', 'ourselves', 'you', 'your']"
      ]
     },
     "execution_count": 47,
     "metadata": {},
     "output_type": "execute_result"
    }
   ],
   "source": [
    "# we will later filter out common english words\n",
    "stopwords_en = stopwords.words('english')\n",
    "stopwords_en[0:10]"
   ]
  },
  {
   "cell_type": "code",
   "execution_count": 48,
   "metadata": {
    "collapsed": true
   },
   "outputs": [],
   "source": [
    "# let's make a function for text cleaning and tokenizing\n",
    "def process_text(df):\n",
    "    words=[]\n",
    "    for item in positive_reviews.fulltext.iteritems():\n",
    "        text = item[1]\n",
    "        text = text.replace('\"', '')\n",
    "        item_words = word_tokenize(text)\n",
    "        words.extend(item_words)\n",
    "    \n",
    "    # remove single character words, mostly punctuation\n",
    "    words = [word for word in words if len(word) > 1]\n",
    "    \n",
    "    # remove numbers\n",
    "    words = [word for word in words if not word.isnumeric()]\n",
    "    \n",
    "    # lower case everything\n",
    "    words = [word.lower() for word in words]\n",
    "    \n",
    "    # remove stopwords\n",
    "    words = [word for word in words if word not in stopwords_en]\n",
    "    \n",
    "    return words"
   ]
  },
  {
   "cell_type": "markdown",
   "metadata": {},
   "source": [
    "## Positive reviews"
   ]
  },
  {
   "cell_type": "code",
   "execution_count": 49,
   "metadata": {},
   "outputs": [
    {
     "data": {
      "text/plain": [
       "9022"
      ]
     },
     "execution_count": 49,
     "metadata": {},
     "output_type": "execute_result"
    }
   ],
   "source": [
    "len(positive_reviews)"
   ]
  },
  {
   "cell_type": "code",
   "execution_count": 50,
   "metadata": {
    "collapsed": true
   },
   "outputs": [],
   "source": [
    "positive_words = process_text(positive_reviews)"
   ]
  },
  {
   "cell_type": "code",
   "execution_count": 51,
   "metadata": {},
   "outputs": [
    {
     "data": {
      "text/plain": [
       "437354"
      ]
     },
     "execution_count": 51,
     "metadata": {},
     "output_type": "execute_result"
    }
   ],
   "source": [
    "len(positive_words)"
   ]
  },
  {
   "cell_type": "code",
   "execution_count": 52,
   "metadata": {},
   "outputs": [
    {
     "data": {
      "text/plain": [
       "['good',\n",
       " 'much',\n",
       " 'write',\n",
       " 'exactly',\n",
       " \"'s\",\n",
       " 'supposed',\n",
       " 'filters',\n",
       " 'pop',\n",
       " 'sounds',\n",
       " 'recordings']"
      ]
     },
     "execution_count": 52,
     "metadata": {},
     "output_type": "execute_result"
    }
   ],
   "source": [
    "positive_words[0:10]"
   ]
  },
  {
   "cell_type": "code",
   "execution_count": 53,
   "metadata": {},
   "outputs": [],
   "source": [
    "# calculate word frequencies\n",
    "fd_pos = nltk.FreqDist(positive_words)"
   ]
  },
  {
   "cell_type": "code",
   "execution_count": 54,
   "metadata": {},
   "outputs": [
    {
     "name": "stdout",
     "output_type": "stream",
     "text": [
      "great: 5623\n",
      "guitar: 5333\n",
      "'s: 5273\n",
      "n't: 5184\n",
      "good: 4295\n",
      "one: 3889\n",
      "like: 3483\n",
      "strings: 3391\n",
      "use: 3364\n",
      "sound: 3283\n",
      "well: 2954\n",
      "pedal: 2431\n",
      "price: 2405\n",
      "...: 2352\n",
      "get: 2239\n",
      "works: 2141\n",
      "would: 2109\n",
      "nice: 2046\n",
      "little: 1999\n",
      "really: 1995\n",
      "amp: 1913\n",
      "'ve: 1866\n",
      "quality: 1751\n",
      "much: 1699\n",
      "used: 1563\n",
      "also: 1516\n",
      "easy: 1494\n",
      "better: 1453\n",
      "tone: 1410\n",
      "strap: 1391\n"
     ]
    }
   ],
   "source": [
    "for word, frequency in fd_pos.most_common(30):\n",
    "    print('{0}: {1}'.format(word, frequency))"
   ]
  },
  {
   "cell_type": "code",
   "execution_count": 55,
   "metadata": {},
   "outputs": [
    {
     "data": {
      "text/plain": [
       "('great',\n",
       " 'guitar',\n",
       " \"'s\",\n",
       " \"n't\",\n",
       " 'good',\n",
       " 'one',\n",
       " 'like',\n",
       " 'strings',\n",
       " 'use',\n",
       " 'sound',\n",
       " 'well',\n",
       " 'pedal',\n",
       " 'price',\n",
       " '...',\n",
       " 'get',\n",
       " 'works',\n",
       " 'would',\n",
       " 'nice',\n",
       " 'little',\n",
       " 'really',\n",
       " 'amp',\n",
       " \"'ve\",\n",
       " 'quality',\n",
       " 'much',\n",
       " 'used',\n",
       " 'also',\n",
       " 'easy',\n",
       " 'better',\n",
       " 'tone',\n",
       " 'strap')"
      ]
     },
     "execution_count": 55,
     "metadata": {},
     "output_type": "execute_result"
    }
   ],
   "source": [
    "# get the top 30 most common\n",
    "w, f = zip(*fd_pos.most_common(30))\n",
    "w"
   ]
  },
  {
   "cell_type": "code",
   "execution_count": 56,
   "metadata": {},
   "outputs": [
    {
     "data": {
      "text/plain": [
       "[('great', 'JJ'),\n",
       " ('guitar', 'NN'),\n",
       " (\"'s\", 'POS'),\n",
       " (\"n't\", 'RB'),\n",
       " ('good', 'JJ'),\n",
       " ('one', 'CD'),\n",
       " ('like', 'IN'),\n",
       " ('strings', 'NNS'),\n",
       " ('use', 'VBP'),\n",
       " ('sound', 'JJ'),\n",
       " ('well', 'RB'),\n",
       " ('pedal', 'JJ'),\n",
       " ('price', 'NN'),\n",
       " ('...', ':'),\n",
       " ('get', 'NN'),\n",
       " ('works', 'NNS'),\n",
       " ('would', 'MD'),\n",
       " ('nice', 'RB'),\n",
       " ('little', 'JJ'),\n",
       " ('really', 'RB'),\n",
       " ('amp', 'JJ'),\n",
       " (\"'ve\", 'VBP'),\n",
       " ('quality', 'NN'),\n",
       " ('much', 'RB'),\n",
       " ('used', 'VBN'),\n",
       " ('also', 'RB'),\n",
       " ('easy', 'JJ'),\n",
       " ('better', 'JJR'),\n",
       " ('tone', 'NN'),\n",
       " ('strap', 'NN')]"
      ]
     },
     "execution_count": 56,
     "metadata": {},
     "output_type": "execute_result"
    }
   ],
   "source": [
    "# we can tag parts of speech (POS)\n",
    "# run this command to see help for POS: nltk.help.upenn_tagset()\n",
    "# or refer to: http://www.ling.upenn.edu/courses/Fall_2003/ling001/penn_treebank_pos.html\n",
    "positive_tagged = nltk.pos_tag(w)\n",
    "positive_tagged"
   ]
  },
  {
   "cell_type": "code",
   "execution_count": 57,
   "metadata": {},
   "outputs": [
    {
     "data": {
      "image/png": "[encoded data removed]",
      "text/plain": [
       "<matplotlib.figure.Figure at 0x1211ae128>"
      ]
     },
     "metadata": {},
     "output_type": "display_data"
    }
   ],
   "source": [
    "fd_pos.plot(30)"
   ]
  },
  {
   "cell_type": "code",
   "execution_count": 58,
   "metadata": {},
   "outputs": [
    {
     "data": {
      "text/plain": [
       "['good',\n",
       " 'much',\n",
       " 'write',\n",
       " 'exactly',\n",
       " \"'s\",\n",
       " 'supposed',\n",
       " 'filters',\n",
       " 'pop',\n",
       " 'sounds',\n",
       " 'recordings']"
      ]
     },
     "execution_count": 58,
     "metadata": {},
     "output_type": "execute_result"
    }
   ],
   "source": [
    "positive_text = nltk.Text(word.lower() for word in positive_words)\n",
    "positive_text[0:10]"
   ]
  },
  {
   "cell_type": "code",
   "execution_count": 60,
   "metadata": {},
   "outputs": [
    {
     "name": "stdout",
     "output_type": "stream",
     "text": [
      "Displaying 25 of 2431 matches:\n",
      "ely 's change tone sound connect one pedal another fine..i 'm going make one sm\n",
      "et waves cables gave plenty room one pedal another used hosa cable emergency ba\n",
      "net waves cables anything else great pedal cable connectors need cables connect\n",
      " small cheap could ask great durable pedal cable bought hosa pedal cable son in\n",
      "reat durable pedal cable bought hosa pedal cable son interconnect guitar pedal \n",
      " pedal cable son interconnect guitar pedal works well seems durable n't given p\n",
      " fix experience durable people using pedal board 's lot movement wear works fin\n",
      "e works fine great little spaces one pedal another 's distance better use anoth\n",
      "es working order matter best tremolo pedal money actually replaced boss tr2 ped\n",
      "dal money actually replaced boss tr2 pedal everything supposed without perceive\n",
      " perceived explain good sounds since pedal rehoused metal enclosure better swit\n",
      "end day 'm looking good sound pretty pedal board pedal seems solid enough n't t\n",
      "ooking good sound pretty pedal board pedal seems solid enough n't take much spa\n",
      " budget tried couple different combo pedal boards digitech boss me-70 quickly r\n",
      " immediately shorter one goes guitar pedal board longer one pedal board amp wor\n",
      "e goes guitar pedal board longer one pedal board amp works like charm excuse da\n",
      "ide turn cord around use right angle pedal board side worked switch n't think p\n",
      "ble get part rig since bought little pedal back year got first guitar 've tried\n",
      "pensive rack units cost practicality pedal best bet amaizing good product compl\n",
      "alboard 'll never buy another chorus pedal first let start saying pedal part se\n",
      " chorus pedal first let start saying pedal part setup nearly years still looks/\n",
      "upport well ever feel need sale boss pedal resale prices always good.while peda\n",
      "edal resale prices always good.while pedal capable hundreds tones sounds chorus\n",
      "ects opinion best uses found.1 tweak pedal thicken sound give guitar effect per\n",
      "world korn type effects really handy pedal imitating tones bands much lot bands\n"
     ]
    }
   ],
   "source": [
    "positive_text.concordance('pedal')"
   ]
  },
  {
   "cell_type": "code",
   "execution_count": 61,
   "metadata": {},
   "outputs": [
    {
     "name": "stdout",
     "output_type": "stream",
     "text": [
      "Displaying 25 of 2431 matches:\n",
      "r tone or sound and they connect one pedal to another just fine..i 'm only goin\n",
      "bles gave me plenty of room from one pedal to another . i only used the hosa ca\n",
      "es cables over anything else . great pedal cable connectors ! if you need some \n",
      " could you ask for ? ! great durable pedal cable bought this hosa pedal cable f\n",
      "durable pedal cable bought this hosa pedal cable for our son to interconnect hi\n",
      "r our son to interconnect his guitar pedal . it works well and seems to be dura\n",
      "e . most people are using these on a pedal board so there 's not a lot of movem\n",
      " great for little spaces between one pedal to another , if there 's more distan\n",
      " order no matter what . best tremolo pedal for the money i actually replaced a \n",
      "tually replaced a boss tr2 with this pedal . does everything it is supposed to \n",
      "d this sounds ? i have since had the pedal rehoused in a metal enclosure with a\n",
      "king for a good sound , not a pretty pedal board . the pedal seems solid enough\n",
      "und , not a pretty pedal board . the pedal seems solid enough , it does n't tak\n",
      "t . i tried a couple different combo pedal boards , ( digitech 500 , boss me-70\n",
      "orter one goes from my guitar to the pedal board and the longer one from the pe\n",
      "al board and the longer one from the pedal board to the amp . works like a char\n",
      "round and use the right angle on the pedal board side , where it worked , but n\n",
      " rig since 1996 i bought this little pedal back in 1996 , about a year after i \n",
      "but for cost and practicality , this pedal is your best bet ! amaizing very ver\n",
      "d . you 'll never buy another chorus pedal first , let me start by saying this \n",
      " first , let me start by saying this pedal has been part of my setup for nearly\n",
      "ever feel you need to sale your boss pedal , resale prices are always good.whil\n",
      "le prices are always good.while this pedal is capable of hundreds of tones and \n",
      "best uses i have found.1 . tweak the pedal just to thicken your sound and give \n",
      "ype effects . this is a really handy pedal for imitating tones of other bands b\n"
     ]
    }
   ],
   "source": [
    "original_fulltext = []\n",
    "for item in positive_reviews.fulltext.iteritems():\n",
    "    text = item[1]\n",
    "    item_words = word_tokenize(text)\n",
    "    original_fulltext.extend(item_words)\n",
    "orig_text = nltk.Text(word.lower() for word in original_fulltext)\n",
    "orig_text.concordance('pedal')"
   ]
  },
  {
   "cell_type": "code",
   "execution_count": null,
   "metadata": {
    "collapsed": true
   },
   "outputs": [],
   "source": []
  }
 ],
 "metadata": {
  "kernelspec": {
   "display_name": "Python 3",
   "language": "python",
   "name": "python3"
  },
  "language_info": {
   "codemirror_mode": {
    "name": "ipython",
    "version": 3
   },
   "file_extension": ".py",
   "mimetype": "text/x-python",
   "name": "python",
   "nbconvert_exporter": "python",
   "pygments_lexer": "ipython3",
   "version": "3.6.1"
  }
 },
 "nbformat": 4,
 "nbformat_minor": 2
}
